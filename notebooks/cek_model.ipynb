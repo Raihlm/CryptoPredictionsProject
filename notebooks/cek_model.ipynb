{
 "cells": [
  {
   "cell_type": "code",
   "execution_count": null,
   "metadata": {},
   "outputs": [
    {
     "name": "stdout",
     "output_type": "stream",
     "text": [
      "Linear Regression Model:\n",
      "LinearRegression()\n",
      "\n",
      "Parameters: {'copy_X': True, 'fit_intercept': True, 'n_jobs': None, 'positive': False}\n",
      "\n",
      "Random Forest Model:\n",
      "RandomForestRegressor(random_state=42)\n",
      "\n",
      "Parameters: {'bootstrap': True, 'ccp_alpha': 0.0, 'criterion': 'squared_error', 'max_depth': None, 'max_features': 1.0, 'max_leaf_nodes': None, 'max_samples': None, 'min_impurity_decrease': 0.0, 'min_samples_leaf': 1, 'min_samples_split': 2, 'min_weight_fraction_leaf': 0.0, 'monotonic_cst': None, 'n_estimators': 100, 'n_jobs': None, 'oob_score': False, 'random_state': 42, 'verbose': 0, 'warm_start': False}\n",
      "\n",
      "Scaler:\n",
      "StandardScaler()\n"
     ]
    }
   ],
   "source": [
    "import joblib\n",
    "\n",
    "\n",
    "linreg_model = joblib.load('../Model/price_prediction/linreg_model.pkl')\n",
    "\n",
    "rf_model = joblib.load('../Model/price_prediction/rf_reg_model.pkl')\n",
    "\n",
    "scaler = joblib.load('../Model/price_prediction/scaler_price.pkl')\n",
    "\n",
    "print(\"Linear Regression Model:\")\n",
    "print(linreg_model)\n",
    "print(\"\\nParameters:\", linreg_model.get_params())\n",
    "\n",
    "print(\"\\nRandom Forest Model:\")\n",
    "print(rf_model)\n",
    "print(\"\\nParameters:\", rf_model.get_params())\n",
    "\n",
    "print(\"\\nScaler:\")\n",
    "print(scaler)\n"
   ]
  }
 ],
 "metadata": {
  "kernelspec": {
   "display_name": "Python 3",
   "language": "python",
   "name": "python3"
  },
  "language_info": {
   "codemirror_mode": {
    "name": "ipython",
    "version": 3
   },
   "file_extension": ".py",
   "mimetype": "text/x-python",
   "name": "python",
   "nbconvert_exporter": "python",
   "pygments_lexer": "ipython3",
   "version": "3.13.1"
  }
 },
 "nbformat": 4,
 "nbformat_minor": 2
}
