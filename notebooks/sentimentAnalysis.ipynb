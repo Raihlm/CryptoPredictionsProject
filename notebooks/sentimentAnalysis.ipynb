{
 "cells": [
  {
   "cell_type": "markdown",
   "metadata": {},
   "source": [
    ". because my developer account is free, it can only fetch 10 post per 15 minutes and can only  pulled max 100 post permonth"
   ]
  },
  {
   "cell_type": "markdown",
   "metadata": {},
   "source": [
    "# Fetching Sentiment From X API"
   ]
  },
  {
   "cell_type": "code",
   "execution_count": null,
   "metadata": {},
   "outputs": [
    {
     "name": "stdout",
     "output_type": "stream",
     "text": [
      "200\n",
      "{'data': [{'text': \"IT'S DAY 167\\nPosting daily price of $BTC untill it reaches 1M 💲 significant mark.\\n🗓️ 20/06/2025\\n$BTC - $1,03,305\\n$SUI - $2.726\\nToday 🔥🔥 - #HODL\\n💯Bitcoin started it all, setting the stage for the cryptocurrency revolution. Its journey has been monumental, leading the charge in\", 'edit_history_tweet_ids': ['1936130930659258502'], 'id': '1936130930659258502'}, {'text': \"@QuintenFrancois @StockHodl21 warned back at $106k that #Bitcoin might experience some turbulence in the short term, and it seems she was right.\\n\\nNow, the main thing is to ensure that $BTC doesn't close below the $103-100k zone, as that wouldn't be the best scenario.\", 'edit_history_tweet_ids': ['1936130930554368274'], 'id': '1936130930554368274'}, {'text': '🔥 The BIGGЕST #Сryрtо #РUMР #Signаl is here! 🚀 Jоin the actiоn!\\n\\nhttps://t.co/dh67X0t8yQ $ETH\\n\\n @May4thCoin @Santi_SdB @FlipMancer @bitcoin_gyun @jackyleeking @Luisentr @JulieGianni @musti_x00 @Ragala00 @KingMaxSoL https://t.co/ogSb05GyW8', 'edit_history_tweet_ids': ['1936130928352673839'], 'id': '1936130928352673839'}, {'text': 'RT @SlyGoomba: Ive completed my goal of selling all my rental properties for Bitcoin. \\n\\nI now have zero additional sats.', 'edit_history_tweet_ids': ['1936130927840960778'], 'id': '1936130927840960778'}, {'text': 'RT @TokenAnalytics_: 🚀 Top Ranked Proof Of Work (POW )Coins Via Market Cap 💹\\n\\n🚀 @Bitcoin — $2.10T\\n🐶 @dogecoin — $25.4B\\n💵 @BitcoinCashA  — $…', 'edit_history_tweet_ids': ['1936130926305853574'], 'id': '1936130926305853574'}, {'text': 'RT @opnetbtc: 🎉 100,000+ OP_WALLET Downloads!\\n\\nThank you to all builders, testers and believers in Bitcoin-native DeFi who are part of this…', 'edit_history_tweet_ids': ['1936130923214299385'], 'id': '1936130923214299385'}, {'text': 'RT @CryptoBull31: #Btc #bitcoin $btc\\n\\n🤬Reason of this volatility 🤬\\n\\nhttps://t.co/e3E5wUKg2D', 'edit_history_tweet_ids': ['1936130922987798842'], 'id': '1936130922987798842'}, {'text': 'Analyst @JSeyffart believes there\\'s a \"90%+ chance\" of spot #crypto ETF approvals! Increased SEC engagement is a positive sign, but timing remains uncertain. Could be weeks, or later this year. #Bitcoin #ETF', 'edit_history_tweet_ids': ['1936130922581311885'], 'id': '1936130922581311885'}, {'text': '@Bitcoin_Teddy honest money', 'edit_history_tweet_ids': ['1936130922295804215'], 'id': '1936130922295804215'}, {'text': \"RT @PortaltoBitcoin: Next Milestone on the Road to Launch ✅\\n\\nPortal to Bitcoin's @KaitoAI Leaderboard is LIVE!\\n\\nWe won't stop until the wor…\", 'edit_history_tweet_ids': ['1936130922237370663'], 'id': '1936130922237370663'}], 'meta': {'newest_id': '1936130930659258502', 'oldest_id': '1936130922237370663', 'result_count': 10, 'next_token': 'b26v89c19zqg8o3fsc58eg6bddk5rjjkxcgkw8obhp8cd'}}\n"
     ]
    }
   ],
   "source": [
    "import requests\n",
    "\n",
    "BEARER_TOKEN = \"yourBEARER_TOKEN\"\n",
    "headers = {\"Authorization\": f\"Bearer {BEARER_TOKEN}\"}\n",
    "url = \"https://api.twitter.com/2/tweets/search/recent?query=bitcoin lang:en\"\n",
    "\n",
    "resp = requests.get(url, headers=headers)\n",
    "print(resp.status_code)\n",
    "print(resp.json())"
   ]
  },
  {
   "cell_type": "code",
   "execution_count": 5,
   "metadata": {},
   "outputs": [
    {
     "name": "stdout",
     "output_type": "stream",
     "text": [
      "{'Date': 'Fri, 20 Jun 2025 18:05:57 GMT', 'Content-Type': 'application/json; charset=utf-8', 'Content-Length': '94', 'Connection': 'keep-alive', 'perf': '7402827104', 'Set-Cookie': 'guest_id_marketing=v1%3A175044275705439371; Max-Age=63072000; Expires=Sun, 20 Jun 2027 18:05:57 GMT; Path=/; Domain=.twitter.com; Secure; SameSite=None, guest_id_ads=v1%3A175044275705439371; Max-Age=63072000; Expires=Sun, 20 Jun 2027 18:05:57 GMT; Path=/; Domain=.twitter.com; Secure; SameSite=None, personalization_id=\"v1_BC2v2CNnvE5E7XTe7MWJUg==\"; Max-Age=63072000; Expires=Sun, 20 Jun 2027 18:05:57 GMT; Path=/; Domain=.twitter.com; Secure; SameSite=None, guest_id=v1%3A175044275705439371; Max-Age=63072000; Expires=Sun, 20 Jun 2027 18:05:57 GMT; Path=/; Domain=.twitter.com; Secure; SameSite=None, __cf_bm=PPDlNChwtPFHmqELrqAuIX_c1SduMSPhw5YCqPXWJK0-1750442757-1.0.1.1-fePz1fA4e3Ma5xGHgW9DzpOZfRAq_c.qfE7lqawPAPP.R0zLUzRWoZXXCgYIFRn92B6dwslp5F3V6L2CHXu47Ypj8elIkvOn3yIO5FP8e0g; path=/; expires=Fri, 20-Jun-25 18:35:57 GMT; domain=.twitter.com; HttpOnly; Secure; SameSite=None', 'api-version': '2.141', 'Cache-Control': 'no-cache, no-store, max-age=0', 'x-access-level': 'read', 'x-frame-options': 'SAMEORIGIN', 'Content-Encoding': 'gzip', 'x-transaction-id': '5386549307419380', 'x-xss-protection': '0', 'x-rate-limit-limit': '1', 'x-rate-limit-reset': '1750443026', 'content-disposition': 'attachment; filename=json.json', 'x-content-type-options': 'nosniff', 'x-rate-limit-remaining': '0', 'strict-transport-security': 'max-age=631138519; includeSubdomains', 'x-response-time': '14', 'x-connection-hash': 'c4745cbdd2cf4c9ce71bba16d174d286ad08951505eca493409d0f7866dc08fd', 'cf-cache-status': 'DYNAMIC', 'vary': 'accept-encoding', 'Server': 'cloudflare tsa_p', 'CF-RAY': '952d327eeedef879-SIN'}\n"
     ]
    }
   ],
   "source": [
    "print(resp.headers)"
   ]
  },
  {
   "cell_type": "code",
   "execution_count": 8,
   "metadata": {},
   "outputs": [
    {
     "name": "stdout",
     "output_type": "stream",
     "text": [
      "1936120677318455338 @Mericamemed Instantly start saving all my money so I can invest in BitCoin when it drops and become a Billionaire during the “Pandemic”.\n",
      "1936120675322020008 China's moral authority is about as convincing as a bitcoin investment strategy https://t.co/THVsLrOuPm\n",
      "1936120668967354481 RT @Vivek4real_: 🇺🇸 PUBLICLY TRADED SEMLER SCIENTIFIC JUST ANNOUNCED TO BUY $10 BILLION WORTH OF #BITCOIN 🤯\n",
      "\n",
      "THIS IS WILD!!! https://t.co/s…\n",
      "1936120667579060310 RT @_Crypto_Barbie: ⚠️ RIPPLE VS. SEC:\n",
      "\n",
      "LAWYER SIGNALS FAST RULING:\n",
      "\n",
      "JUDGE TORRES MAY MOVE QUICKLY IN RIPPLE VS. SEC CASE OVER #XRP ⚖️\n",
      "\n",
      "htt…\n",
      "1936120666983727499 RT @OnrampBitcoin: The national debt is now over $37 TRILLION.\n",
      "\n",
      "The US is effectively a zombie company.\n",
      "\n",
      "Debasement is inevitable.\n",
      "\n",
      "Nothing…\n",
      "1936120665838350763 7/ 🔑 Join us as we unlock the potential of Bitcoin and AI together!vGet ready for a thrilling ride into the world of productive financial opportunities. Let the collaboration begin! 🎊💪\n",
      "1936120664999514354 RT @Cointelegraph: 🔥 INSIGHT: While US debt soared from $13T to $37T in 15 years, Bitcoin climbed from under $1 to $100K. https://t.co/oVYu…\n",
      "1936120664945025324 @Crypto_R0D Bitcoin is the greatest monetary invention in human history. It has surpassed silver, it will surpass gold. Bitcoin is money for smart people.\n",
      "\n",
      "My advice for both old and new crypto fanatics is to follow @wisson_pump\n",
      "\n",
      "because she is knowledgeable in this crypto feed.\n",
      "1936120664404136291 @Mandrik Watching suits buy Bitcoin is like watching tourists discover your favorite dive bar.\n",
      "1936120663242068286 $MSTR Bulls have bought every single Bitcoin dip today. https://t.co/Hpnnhza6oq\n"
     ]
    }
   ],
   "source": [
    "for tweet in resp.json()['data']:\n",
    "    print(tweet['id'], tweet['text'])\n",
    "    if 'attachments' in tweet:\n",
    "        for media_id in tweet['attachments']['media_keys']:\n",
    "            print(f\"Media ID: {media_id}\")\n",
    "            media_url = f\"https://api.twitter.com/2/media/{media_id}\"\n",
    "            media_resp = requests.get(media_url, headers=headers)\n",
    "            if media_resp.status_code == 200:\n",
    "                print(media_resp.json())\n",
    "            else:\n",
    "                print(f\"Failed to fetch media: {media_resp.status_code}\")"
   ]
  },
  {
   "cell_type": "markdown",
   "metadata": {},
   "source": [
    "# Analyzing"
   ]
  },
  {
   "cell_type": "code",
   "execution_count": null,
   "metadata": {},
   "outputs": [],
   "source": [
    "pip install vaderSentiment"
   ]
  },
  {
   "cell_type": "markdown",
   "metadata": {},
   "source": [
    "import"
   ]
  },
  {
   "cell_type": "code",
   "execution_count": 1,
   "metadata": {},
   "outputs": [],
   "source": [
    "from vaderSentiment.vaderSentiment import SentimentIntensityAnalyzer"
   ]
  },
  {
   "cell_type": "code",
   "execution_count": 7,
   "metadata": {},
   "outputs": [],
   "source": [
    "tweets = resp.json().get('data', [])\n",
    "\n",
    "analyzer = SentimentIntensityAnalyzer()"
   ]
  },
  {
   "cell_type": "markdown",
   "metadata": {},
   "source": [
    "Analyze"
   ]
  },
  {
   "cell_type": "code",
   "execution_count": 8,
   "metadata": {},
   "outputs": [
    {
     "name": "stdout",
     "output_type": "stream",
     "text": [
      "Tweet ID: 1936130930659258502, Sentiment: {'neg': 0.086, 'neu': 0.86, 'pos': 0.054, 'compound': -0.4215}\n",
      "Tweet ID: 1936130930554368274, Sentiment: {'neg': 0.111, 'neu': 0.836, 'pos': 0.053, 'compound': -0.4344}\n",
      "Tweet ID: 1936130928352673839, Sentiment: {'neg': 0.111, 'neu': 0.889, 'pos': 0.0, 'compound': -0.4559}\n",
      "Tweet ID: 1936130927840960778, Sentiment: {'neg': 0.0, 'neu': 1.0, 'pos': 0.0, 'compound': 0.0}\n",
      "Tweet ID: 1936130926305853574, Sentiment: {'neg': 0.0, 'neu': 0.943, 'pos': 0.057, 'compound': 0.2023}\n",
      "Tweet ID: 1936130923214299385, Sentiment: {'neg': 0.0, 'neu': 0.793, 'pos': 0.207, 'compound': 0.6696}\n",
      "Tweet ID: 1936130922987798842, Sentiment: {'neg': 0.0, 'neu': 1.0, 'pos': 0.0, 'compound': 0.0}\n",
      "Tweet ID: 1936130922581311885, Sentiment: {'neg': 0.075, 'neu': 0.721, 'pos': 0.204, 'compound': 0.4295}\n",
      "Tweet ID: 1936130922295804215, Sentiment: {'neg': 0.0, 'neu': 0.377, 'pos': 0.623, 'compound': 0.5106}\n",
      "Tweet ID: 1936130922237370663, Sentiment: {'neg': 0.0, 'neu': 0.92, 'pos': 0.08, 'compound': 0.2914}\n"
     ]
    }
   ],
   "source": [
    "for tweet in tweets:\n",
    "    text = tweet['text']\n",
    "    sentiment = analyzer.polarity_scores(text)\n",
    "    print(f\"Tweet ID: {tweet['id']}, Sentiment: {sentiment}\")\n",
    "    \n",
    "    if 'attachments' in tweet:\n",
    "        for media_id in tweet['attachments']['media_keys']:\n",
    "            print(f\"Media ID: {media_id}\")\n",
    "            media_url = f\"https://api.twitter.com/2/media/{media_id}\"\n",
    "            media_resp = requests.get(media_url, headers=headers)\n",
    "            if media_resp.status_code == 200:\n",
    "                print(media_resp.json())\n",
    "            else:\n",
    "                print(f\"Failed to fetch media: {media_resp.status_code}\")"
   ]
  },
  {
   "cell_type": "markdown",
   "metadata": {},
   "source": [
    "# Visualize"
   ]
  },
  {
   "cell_type": "code",
   "execution_count": 9,
   "metadata": {},
   "outputs": [],
   "source": [
    "import matplotlib.pyplot as plt\n",
    "import seaborn as sns"
   ]
  },
  {
   "cell_type": "code",
   "execution_count": 10,
   "metadata": {},
   "outputs": [],
   "source": [
    "def visualize_sentiment(tweets_with_sentiment):\n",
    "    pos = sum(1 for t in tweets_with_sentiment if t['sentiment']['compound'] > 0.05)\n",
    "    neg = sum(1 for t in tweets_with_sentiment if t['sentiment']['compound'] < -0.05)\n",
    "    neu = len(tweets_with_sentiment) - pos - neg\n",
    "\n",
    "    # Pie chart\n",
    "    plt.figure(figsize=(5,5))\n",
    "    plt.pie([pos, neu, neg], labels=['Positive', 'Neutral', 'Negative'],\n",
    "            autopct='%1.1f%%', colors=['#00c853', '#ffd600', '#d50000'])\n",
    "    plt.title('Sentiment Distribution')\n",
    "    plt.show()\n",
    "\n",
    "    # Bar chart\n",
    "    plt.figure(figsize=(5,3))\n",
    "    plt.bar(['Positive', 'Neutral', 'Negative'], [pos, neu, neg], color=['#00c853', '#ffd600', '#d50000'])\n",
    "    plt.title('Sentiment Count')\n",
    "    plt.ylabel('Number of Tweets')\n",
    "    plt.show()"
   ]
  },
  {
   "cell_type": "code",
   "execution_count": 13,
   "metadata": {},
   "outputs": [],
   "source": [
    "def show_extreme_tweets(tweets_with_sentiment):\n",
    "    most_positive = max(tweets_with_sentiment, key=lambda t: t['sentiment']['compound'])\n",
    "    most_negative = min(tweets_with_sentiment, key=lambda t: t['sentiment']['compound'])\n",
    "    neutral_tweets = [t for t in tweets_with_sentiment if -0.05 <= t['sentiment']['compound'] <= 0.05]\n",
    "\n",
    "    print(\"\\nMost Positive Tweet:\")\n",
    "    print(f\"Text: {most_positive['text']}\")\n",
    "    print(f\"Score: {most_positive['sentiment']['compound']}\")\n",
    "\n",
    "    print(\"\\nMost Negative Tweet:\")\n",
    "    print(f\"Text: {most_negative['text']}\")\n",
    "    print(f\"Score: {most_negative['sentiment']['compound']}\")\n",
    "\n",
    "    print(\"\\nNeutral Tweets:\")\n",
    "    print(f\"text: {len(neutral_tweets)} tweets\")\n",
    "    print(\"\\n\".join(t['text'] for t in neutral_tweets[:5]))  # Show first 5 neutral tweets"
   ]
  },
  {
   "cell_type": "code",
   "execution_count": 14,
   "metadata": {},
   "outputs": [
    {
     "data": {
      "image/png": "[encoded data removed]",
      "text/plain": [
       "<Figure size 500x500 with 1 Axes>"
      ]
     },
     "metadata": {},
     "output_type": "display_data"
    },
    {
     "data": {
      "image/png": "[encoded data removed]",
      "text/plain": [
       "<Figure size 500x300 with 1 Axes>"
      ]
     },
     "metadata": {},
     "output_type": "display_data"
    },
    {
     "name": "stdout",
     "output_type": "stream",
     "text": [
      "\n",
      "Most Positive Tweet:\n",
      "Text: RT @opnetbtc: 🎉 100,000+ OP_WALLET Downloads!\n",
      "\n",
      "Thank you to all builders, testers and believers in Bitcoin-native DeFi who are part of this…\n",
      "Score: 0.6696\n",
      "\n",
      "Most Negative Tweet:\n",
      "Text: 🔥 The BIGGЕST #Сryрtо #РUMР #Signаl is here! 🚀 Jоin the actiоn!\n",
      "\n",
      "https://t.co/dh67X0t8yQ $ETH\n",
      "\n",
      " @May4thCoin @Santi_SdB @FlipMancer @bitcoin_gyun @jackyleeking @Luisentr @JulieGianni @musti_x00 @Ragala00 @KingMaxSoL https://t.co/ogSb05GyW8\n",
      "Score: -0.4559\n",
      "\n",
      "Neutral Tweets:\n",
      "text: 2 tweets\n",
      "RT @SlyGoomba: Ive completed my goal of selling all my rental properties for Bitcoin. \n",
      "\n",
      "I now have zero additional sats.\n",
      "RT @CryptoBull31: #Btc #bitcoin $btc\n",
      "\n",
      "🤬Reason of this volatility 🤬\n",
      "\n",
      "https://t.co/e3E5wUKg2D\n"
     ]
    }
   ],
   "source": [
    "tweets_with_sentiment = []\n",
    "for tweet in tweets:\n",
    "    text = tweet['text']\n",
    "    sentiment = analyzer.polarity_scores(text)\n",
    "    tweets_with_sentiment.append({'id': tweet['id'], 'text': text, 'sentiment': sentiment})\n",
    "\n",
    "# Visualisasi\n",
    "visualize_sentiment(tweets_with_sentiment)\n",
    "show_extreme_tweets(tweets_with_sentiment)"
   ]
  }
 ],
 "metadata": {
  "kernelspec": {
   "display_name": "Python 3",
   "language": "python",
   "name": "python3"
  },
  "language_info": {
   "codemirror_mode": {
    "name": "ipython",
    "version": 3
   },
   "file_extension": ".py",
   "mimetype": "text/x-python",
   "name": "python",
   "nbconvert_exporter": "python",
   "pygments_lexer": "ipython3",
   "version": "3.13.1"
  }
 },
 "nbformat": 4,
 "nbformat_minor": 2
}
