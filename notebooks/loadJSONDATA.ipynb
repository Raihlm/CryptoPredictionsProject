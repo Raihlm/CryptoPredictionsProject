{
 "cells": [
  {
   "cell_type": "code",
   "execution_count": null,
   "metadata": {},
   "outputs": [
    {
     "name": "stdout",
     "output_type": "stream",
     "text": [
      "Exported all JSON files.\n"
     ]
    }
   ],
   "source": [
    "import pandas as pd\n",
    "import json\n",
    "\n",
    "df = pd.read_pickle(\"./Dataset/processed/Bitcoin_clean_preprocessed.pkl\")\n",
    "\n",
    "df['date'] = pd.to_datetime(df['date'])\n",
    "\n",
    "# --- Averages ---\n",
    "yearly = df.groupby(df['date'].dt.year)['price'].mean()\n",
    "monthly = df.groupby(df['date'].dt.to_period('M'))['price'].mean()\n",
    "daily = df.set_index('date')['price']\n",
    "\n",
    "# Convert indexes to string for Chart.js\n",
    "yearly_json = {\n",
    "    \"labels\": yearly.index.astype(str).tolist(),\n",
    "    \"data\": yearly.values.tolist()\n",
    "}\n",
    "monthly_json = {\n",
    "    \"labels\": monthly.index.astype(str).tolist(),\n",
    "    \"data\": monthly.values.tolist()\n",
    "}\n",
    "daily_json = {\n",
    "    \"labels\": daily.index.strftime(\"%Y-%m-%d\").tolist(),\n",
    "    \"data\": daily.values.tolist()\n",
    "}\n",
    "\n",
    "with open(\"yearly_price.json\", \"w\") as f:\n",
    "    json.dump(yearly_json, f)\n",
    "with open(\"monthly_price.json\", \"w\") as f:\n",
    "    json.dump(monthly_json, f)\n",
    "with open(\"daily_price.json\", \"w\") as f:\n",
    "    json.dump(daily_json, f)\n",
    "\n",
    "print(\"Exported all JSON files.\")\n"
   ]
  }
 ],
 "metadata": {
  "kernelspec": {
   "display_name": "Python 3",
   "language": "python",
   "name": "python3"
  },
  "language_info": {
   "codemirror_mode": {
    "name": "ipython",
    "version": 3
   },
   "file_extension": ".py",
   "mimetype": "text/x-python",
   "name": "python",
   "nbconvert_exporter": "python",
   "pygments_lexer": "ipython3",
   "version": "3.13.1"
  }
 },
 "nbformat": 4,
 "nbformat_minor": 2
}
