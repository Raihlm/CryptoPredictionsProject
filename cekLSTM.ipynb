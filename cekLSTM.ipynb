{
 "cells": [
  {
   "cell_type": "code",
   "execution_count": 1,
   "metadata": {},
   "outputs": [
    {
     "name": "stderr",
     "output_type": "stream",
     "text": [
      "2025-06-28 22:07:23.455829: I tensorflow/core/platform/cpu_feature_guard.cc:210] This TensorFlow binary is optimized to use available CPU instructions in performance-critical operations.\n",
      "To enable the following instructions: AVX2 FMA, in other operations, rebuild TensorFlow with the appropriate compiler flags.\n"
     ]
    }
   ],
   "source": [
    "import tensorflow as tf"
   ]
  },
  {
   "cell_type": "code",
   "execution_count": 11,
   "metadata": {},
   "outputs": [],
   "source": [
    "from keras.models import load_model\n",
    "from keras import backend as K\n",
    "import numpy as np\n",
    "import pandas as pd\n",
    "from sklearn.metrics import r2_score, mean_squared_error, mean_absolute_error\n",
    "from sklearn.preprocessing import StandardScaler, MinMaxScaler\n"
   ]
  },
  {
   "cell_type": "code",
   "execution_count": 4,
   "metadata": {},
   "outputs": [],
   "source": [
    "model = load_model('best_model.keras')\n",
    "\n",
    "data = pd.read_csv('Dataset/Historical/HistoricalData.csv')"
   ]
  },
  {
   "cell_type": "code",
   "execution_count": 16,
   "metadata": {},
   "outputs": [],
   "source": [
    "window_size = 60\n",
    "scaler = MinMaxScaler()\n",
    "data_array = data['price'].values\n",
    "data_scaled = scaler.fit_transform(data_array.reshape(-1, 1)).flatten()"
   ]
  },
  {
   "cell_type": "code",
   "execution_count": 17,
   "metadata": {},
   "outputs": [],
   "source": [
    "def create_sequence(data, window_size):\n",
    "    X, y = [], []\n",
    "    for i in range(len(data) - window_size):\n",
    "        X.append(data[i:i + window_size])\n",
    "        y.append(data[i + window_size])\n",
    "        return np.array(X), np.array(y)"
   ]
  },
  {
   "cell_type": "code",
   "execution_count": 18,
   "metadata": {},
   "outputs": [],
   "source": [
    "x, y = create_sequence(data['price'].values, window_size=30)"
   ]
  },
  {
   "cell_type": "code",
   "execution_count": 19,
   "metadata": {},
   "outputs": [],
   "source": [
    "split = int(0.8 * len(x))\n",
    "X_train, X_test = x[:split], x[split:]\n",
    "y_train, y_test = y[:split], y[split:]"
   ]
  },
  {
   "cell_type": "code",
   "execution_count": 20,
   "metadata": {},
   "outputs": [
    {
     "name": "stdout",
     "output_type": "stream",
     "text": [
      "\u001b[1m1/1\u001b[0m \u001b[32m━━━━━━━━━━━━━━━━━━━━\u001b[0m\u001b[37m\u001b[0m \u001b[1m0s\u001b[0m 474ms/step\n"
     ]
    }
   ],
   "source": [
    "X_test = X_test.reshape((X_test.shape[0], X_test.shape[1], 1))\n",
    "\n",
    "y_pred_scaled = model.predict(X_test)"
   ]
  },
  {
   "cell_type": "code",
   "execution_count": 21,
   "metadata": {},
   "outputs": [],
   "source": [
    "y_pred = scaler.inverse_transform(y_pred_scaled).flatten()\n",
    "y_actual = scaler.inverse_transform(y_test.reshape(-1, 1)).flatten()"
   ]
  },
  {
   "cell_type": "code",
   "execution_count": 22,
   "metadata": {},
   "outputs": [
    {
     "name": "stderr",
     "output_type": "stream",
     "text": [
      "/usr/local/lib/python3.11/site-packages/sklearn/metrics/_regression.py:1266: UndefinedMetricWarning: R^2 score is not well-defined with less than two samples.\n",
      "  warnings.warn(msg, UndefinedMetricWarning)\n"
     ]
    }
   ],
   "source": [
    "mae = mean_absolute_error(y_actual, y_pred)\n",
    "rmse = np.sqrt(mean_squared_error(y_actual, y_pred))\n",
    "r2= r2_score(y_actual, y_pred)"
   ]
  },
  {
   "cell_type": "code",
   "execution_count": 23,
   "metadata": {},
   "outputs": [
    {
     "name": "stdout",
     "output_type": "stream",
     "text": [
      "Mean Absolute Error: 331.6595312499994\n",
      "Root Mean Squared Error: 331.6595312499994\n",
      "R^2 Score: nan\n"
     ]
    }
   ],
   "source": [
    "print(f'Mean Absolute Error: {mae}')\n",
    "print(f'Root Mean Squared Error: {rmse}')\n",
    "print(f'R^2 Score: {r2}')"
   ]
  },
  {
   "cell_type": "code",
   "execution_count": 26,
   "metadata": {},
   "outputs": [
    {
     "name": "stdout",
     "output_type": "stream",
     "text": [
      "Unique values in y_actual: [11170.36]\n",
      "Unique values in y_pred: [11502.02]\n"
     ]
    }
   ],
   "source": [
    "# Periksa variasi dalam data aktual\n",
    "print(\"Unique values in y_actual:\", np.unique(y_actual))\n",
    "\n",
    "# Periksa variasi dalam prediksi\n",
    "print(\"Unique values in y_pred:\", np.unique(y_pred))"
   ]
  },
  {
   "cell_type": "code",
   "execution_count": 27,
   "metadata": {},
   "outputs": [
    {
     "name": "stdout",
     "output_type": "stream",
     "text": [
      "Training data: []\n",
      "Training target: []\n"
     ]
    }
   ],
   "source": [
    "print(\"Training data:\", X_train)\n",
    "print(\"Training target:\", y_train)"
   ]
  },
  {
   "cell_type": "code",
   "execution_count": 28,
   "metadata": {},
   "outputs": [
    {
     "name": "stdout",
     "output_type": "stream",
     "text": [
      "Data awal:       Unnamed: 0        date     price      open      high       low   volume  \\\n",
      "0              0  2010-07-18       0.1       0.0       0.1       0.1     80.0   \n",
      "1              1  2010-07-19       0.1       0.1       0.1       0.1    570.0   \n",
      "2              2  2010-07-20       0.1       0.1       0.1       0.1    260.0   \n",
      "3              3  2010-07-21       0.1       0.1       0.1       0.1    580.0   \n",
      "4              4  2010-07-22       0.1       0.1       0.1       0.1   2160.0   \n",
      "...          ...         ...       ...       ...       ...       ...      ...   \n",
      "5425        5431  2025-05-31  104598.0  103981.9  104888.4  103091.3  35800.0   \n",
      "5426        5432  2025-06-01  105635.2  104598.0  105867.5  103768.6  33030.0   \n",
      "5427        5433  2025-06-02  105845.6  105635.2  105930.7  103729.7  46440.0   \n",
      "5428        5434  2025-06-03  105388.3  105845.6  106758.4  104886.9  49470.0   \n",
      "5429        5435  2025-06-04  105482.6  105383.5  105841.0  105148.7  46670.0   \n",
      "\n",
      "      change  \n",
      "0       0.00  \n",
      "1       0.00  \n",
      "2       0.00  \n",
      "3       0.00  \n",
      "4       0.00  \n",
      "...      ...  \n",
      "5425    0.59  \n",
      "5426    0.99  \n",
      "5427    0.20  \n",
      "5428   -0.43  \n",
      "5429    0.09  \n",
      "\n",
      "[5430 rows x 8 columns]\n",
      "Jumlah data: 5430\n"
     ]
    }
   ],
   "source": [
    "print(\"Data awal:\", data)\n",
    "print(\"Jumlah data:\", len(data))"
   ]
  },
  {
   "cell_type": "code",
   "execution_count": 30,
   "metadata": {},
   "outputs": [
    {
     "name": "stdout",
     "output_type": "stream",
     "text": [
      "X: [[0. 0. 0. 0. 0. 0. 0. 0. 0. 0. 0. 0. 0. 0. 0. 0. 0. 0. 0. 0. 0. 0. 0. 0.\n",
      "  0. 0. 0. 0. 0. 0. 0. 0. 0. 0. 0. 0. 0. 0. 0. 0. 0. 0. 0. 0. 0. 0. 0. 0.\n",
      "  0. 0. 0. 0. 0. 0. 0. 0. 0. 0. 0. 0.]]\n",
      "y: [0.]\n"
     ]
    }
   ],
   "source": [
    "X, y = create_sequence(data_scaled, window_size)\n",
    "print(\"X:\", X)\n",
    "print(\"y:\", y)"
   ]
  }
 ],
 "metadata": {
  "kernelspec": {
   "display_name": "Python 3",
   "language": "python",
   "name": "python3"
  },
  "language_info": {
   "codemirror_mode": {
    "name": "ipython",
    "version": 3
   },
   "file_extension": ".py",
   "mimetype": "text/x-python",
   "name": "python",
   "nbconvert_exporter": "python",
   "pygments_lexer": "ipython3",
   "version": "3.11.12"
  }
 },
 "nbformat": 4,
 "nbformat_minor": 2
}
